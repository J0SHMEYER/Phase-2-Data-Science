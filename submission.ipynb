{
 "cells": [
  {
   "cell_type": "markdown",
   "metadata": {},
   "source": [
    "# 2022 NZMSA Data Science Submission."
   ]
  },
  {
   "cell_type": "code",
   "execution_count": 1,
   "metadata": {},
   "outputs": [],
   "source": [
    "import pandas as pd\n",
    "import seaborn as sns\n",
    "\n",
    "import matplotlib.pyplot as plt\n",
    "\n",
    "%matplotlib inline"
   ]
  },
  {
   "cell_type": "markdown",
   "metadata": {},
   "source": [
    "# Exploratory Data Analysis."
   ]
  },
  {
   "cell_type": "code",
   "execution_count": 2,
   "metadata": {},
   "outputs": [
    {
     "data": {
      "text/html": [
       "<div>\n",
       "<style scoped>\n",
       "    .dataframe tbody tr th:only-of-type {\n",
       "        vertical-align: middle;\n",
       "    }\n",
       "\n",
       "    .dataframe tbody tr th {\n",
       "        vertical-align: top;\n",
       "    }\n",
       "\n",
       "    .dataframe thead th {\n",
       "        text-align: right;\n",
       "    }\n",
       "</style>\n",
       "<table border=\"1\" class=\"dataframe\">\n",
       "  <thead>\n",
       "    <tr style=\"text-align: right;\">\n",
       "      <th></th>\n",
       "      <th>station</th>\n",
       "      <th>valid</th>\n",
       "      <th>tmpc</th>\n",
       "      <th>dwpc</th>\n",
       "      <th>relh</th>\n",
       "      <th>sknt</th>\n",
       "      <th>gust</th>\n",
       "      <th>peak_wind_drct</th>\n",
       "    </tr>\n",
       "  </thead>\n",
       "  <tbody>\n",
       "    <tr>\n",
       "      <th>0</th>\n",
       "      <td>NZAA</td>\n",
       "      <td>2015-01-01 00:00</td>\n",
       "      <td>21.0</td>\n",
       "      <td>11.0</td>\n",
       "      <td>52.77</td>\n",
       "      <td>15.0</td>\n",
       "      <td>NaN</td>\n",
       "      <td>NaN</td>\n",
       "    </tr>\n",
       "    <tr>\n",
       "      <th>1</th>\n",
       "      <td>NZAA</td>\n",
       "      <td>2015-01-01 00:30</td>\n",
       "      <td>21.0</td>\n",
       "      <td>10.0</td>\n",
       "      <td>49.37</td>\n",
       "      <td>16.0</td>\n",
       "      <td>NaN</td>\n",
       "      <td>NaN</td>\n",
       "    </tr>\n",
       "    <tr>\n",
       "      <th>2</th>\n",
       "      <td>NZAA</td>\n",
       "      <td>2015-01-01 01:00</td>\n",
       "      <td>21.0</td>\n",
       "      <td>12.0</td>\n",
       "      <td>56.38</td>\n",
       "      <td>16.0</td>\n",
       "      <td>NaN</td>\n",
       "      <td>NaN</td>\n",
       "    </tr>\n",
       "    <tr>\n",
       "      <th>3</th>\n",
       "      <td>NZAA</td>\n",
       "      <td>2015-01-01 01:30</td>\n",
       "      <td>21.0</td>\n",
       "      <td>13.0</td>\n",
       "      <td>60.21</td>\n",
       "      <td>16.0</td>\n",
       "      <td>NaN</td>\n",
       "      <td>NaN</td>\n",
       "    </tr>\n",
       "    <tr>\n",
       "      <th>4</th>\n",
       "      <td>NZAA</td>\n",
       "      <td>2015-01-01 02:00</td>\n",
       "      <td>21.0</td>\n",
       "      <td>12.0</td>\n",
       "      <td>56.38</td>\n",
       "      <td>16.0</td>\n",
       "      <td>NaN</td>\n",
       "      <td>NaN</td>\n",
       "    </tr>\n",
       "  </tbody>\n",
       "</table>\n",
       "</div>"
      ],
      "text/plain": [
       "   station             valid  tmpc  dwpc   relh  sknt  gust  peak_wind_drct\n",
       "0     NZAA  2015-01-01 00:00  21.0  11.0  52.77  15.0   NaN             NaN\n",
       "1     NZAA  2015-01-01 00:30  21.0  10.0  49.37  16.0   NaN             NaN\n",
       "2     NZAA  2015-01-01 01:00  21.0  12.0  56.38  16.0   NaN             NaN\n",
       "3     NZAA  2015-01-01 01:30  21.0  13.0  60.21  16.0   NaN             NaN\n",
       "4     NZAA  2015-01-01 02:00  21.0  12.0  56.38  16.0   NaN             NaN"
      ]
     },
     "execution_count": 2,
     "metadata": {},
     "output_type": "execute_result"
    }
   ],
   "source": [
    "dataset = pd.read_csv(\"weather-data.csv\")\n",
    "dataset.head() # Show the first five results."
   ]
  },
  {
   "cell_type": "code",
   "execution_count": 3,
   "metadata": {},
   "outputs": [
    {
     "data": {
      "text/html": [
       "<div>\n",
       "<style scoped>\n",
       "    .dataframe tbody tr th:only-of-type {\n",
       "        vertical-align: middle;\n",
       "    }\n",
       "\n",
       "    .dataframe tbody tr th {\n",
       "        vertical-align: top;\n",
       "    }\n",
       "\n",
       "    .dataframe thead th {\n",
       "        text-align: right;\n",
       "    }\n",
       "</style>\n",
       "<table border=\"1\" class=\"dataframe\">\n",
       "  <thead>\n",
       "    <tr style=\"text-align: right;\">\n",
       "      <th></th>\n",
       "      <th>tmpc</th>\n",
       "      <th>dwpc</th>\n",
       "      <th>relh</th>\n",
       "      <th>sknt</th>\n",
       "      <th>gust</th>\n",
       "      <th>peak_wind_drct</th>\n",
       "    </tr>\n",
       "  </thead>\n",
       "  <tbody>\n",
       "    <tr>\n",
       "      <th>count</th>\n",
       "      <td>103678.000000</td>\n",
       "      <td>103678.000000</td>\n",
       "      <td>103593.000000</td>\n",
       "      <td>103704.000000</td>\n",
       "      <td>1203.000000</td>\n",
       "      <td>0.0</td>\n",
       "    </tr>\n",
       "    <tr>\n",
       "      <th>mean</th>\n",
       "      <td>15.811503</td>\n",
       "      <td>12.115772</td>\n",
       "      <td>79.782307</td>\n",
       "      <td>8.919029</td>\n",
       "      <td>30.962594</td>\n",
       "      <td>NaN</td>\n",
       "    </tr>\n",
       "    <tr>\n",
       "      <th>std</th>\n",
       "      <td>4.235197</td>\n",
       "      <td>3.738005</td>\n",
       "      <td>12.562199</td>\n",
       "      <td>5.348379</td>\n",
       "      <td>6.319510</td>\n",
       "      <td>NaN</td>\n",
       "    </tr>\n",
       "    <tr>\n",
       "      <th>min</th>\n",
       "      <td>2.000000</td>\n",
       "      <td>-2.000000</td>\n",
       "      <td>29.230000</td>\n",
       "      <td>0.000000</td>\n",
       "      <td>13.000000</td>\n",
       "      <td>NaN</td>\n",
       "    </tr>\n",
       "    <tr>\n",
       "      <th>25%</th>\n",
       "      <td>13.000000</td>\n",
       "      <td>9.000000</td>\n",
       "      <td>71.450000</td>\n",
       "      <td>5.000000</td>\n",
       "      <td>27.000000</td>\n",
       "      <td>NaN</td>\n",
       "    </tr>\n",
       "    <tr>\n",
       "      <th>50%</th>\n",
       "      <td>16.000000</td>\n",
       "      <td>12.000000</td>\n",
       "      <td>81.990000</td>\n",
       "      <td>8.000000</td>\n",
       "      <td>31.000000</td>\n",
       "      <td>NaN</td>\n",
       "    </tr>\n",
       "    <tr>\n",
       "      <th>75%</th>\n",
       "      <td>19.000000</td>\n",
       "      <td>15.000000</td>\n",
       "      <td>88.180000</td>\n",
       "      <td>12.000000</td>\n",
       "      <td>35.000000</td>\n",
       "      <td>NaN</td>\n",
       "    </tr>\n",
       "    <tr>\n",
       "      <th>max</th>\n",
       "      <td>29.000000</td>\n",
       "      <td>23.000000</td>\n",
       "      <td>100.000000</td>\n",
       "      <td>42.000000</td>\n",
       "      <td>56.000000</td>\n",
       "      <td>NaN</td>\n",
       "    </tr>\n",
       "  </tbody>\n",
       "</table>\n",
       "</div>"
      ],
      "text/plain": [
       "                tmpc           dwpc           relh           sknt  \\\n",
       "count  103678.000000  103678.000000  103593.000000  103704.000000   \n",
       "mean       15.811503      12.115772      79.782307       8.919029   \n",
       "std         4.235197       3.738005      12.562199       5.348379   \n",
       "min         2.000000      -2.000000      29.230000       0.000000   \n",
       "25%        13.000000       9.000000      71.450000       5.000000   \n",
       "50%        16.000000      12.000000      81.990000       8.000000   \n",
       "75%        19.000000      15.000000      88.180000      12.000000   \n",
       "max        29.000000      23.000000     100.000000      42.000000   \n",
       "\n",
       "              gust  peak_wind_drct  \n",
       "count  1203.000000             0.0  \n",
       "mean     30.962594             NaN  \n",
       "std       6.319510             NaN  \n",
       "min      13.000000             NaN  \n",
       "25%      27.000000             NaN  \n",
       "50%      31.000000             NaN  \n",
       "75%      35.000000             NaN  \n",
       "max      56.000000             NaN  "
      ]
     },
     "execution_count": 3,
     "metadata": {},
     "output_type": "execute_result"
    }
   ],
   "source": [
    "# Example description.\n",
    "# Mean - Average value of the data.\n",
    "# std (Standard Deviation) - How far away from the mean is the overall data?\n",
    "# 25% - The 25th percentile value.\n",
    "# 50% - Median.\n",
    "# 75% - The 75th percentile value.\n",
    "\n",
    "dataset.describe()"
   ]
  },
  {
   "cell_type": "code",
   "execution_count": 4,
   "metadata": {},
   "outputs": [
    {
     "name": "stdout",
     "output_type": "stream",
     "text": [
      "<class 'pandas.core.frame.DataFrame'>\n",
      "RangeIndex: 103713 entries, 0 to 103712\n",
      "Data columns (total 8 columns):\n",
      " #   Column          Non-Null Count   Dtype  \n",
      "---  ------          --------------   -----  \n",
      " 0    station        103713 non-null  object \n",
      " 1   valid           103713 non-null  object \n",
      " 2   tmpc            103678 non-null  float64\n",
      " 3   dwpc            103678 non-null  float64\n",
      " 4   relh            103593 non-null  float64\n",
      " 5   sknt            103704 non-null  float64\n",
      " 6   gust            1203 non-null    float64\n",
      " 7   peak_wind_drct  0 non-null       float64\n",
      "dtypes: float64(6), object(2)\n",
      "memory usage: 6.3+ MB\n"
     ]
    }
   ],
   "source": [
    "# Check that there are no null-values.\n",
    "\n",
    "dataset.info()"
   ]
  },
  {
   "cell_type": "code",
   "execution_count": 5,
   "metadata": {},
   "outputs": [
    {
     "data": {
      "text/plain": [
       "<AxesSubplot:>"
      ]
     },
     "execution_count": 5,
     "metadata": {},
     "output_type": "execute_result"
    },
    {
     "data": {
      "image/png": "[encoded data removed]",
      "text/plain": [
       "<Figure size 432x288 with 2 Axes>"
      ]
     },
     "metadata": {
      "needs_background": "light"
     },
     "output_type": "display_data"
    }
   ],
   "source": [
    "# Example correlation plot.\n",
    "# Values nearing one or negative one can have a pattern where a(x) = k*b(x)\n",
    "# Values closer to the 0 value indicates the plot of a(x) and b(x) has no noticeable pattern.\n",
    "\n",
    "sns.heatmap(dataset.corr(), annot=True, square=True)"
   ]
  },
  {
   "cell_type": "code",
   "execution_count": 6,
   "metadata": {},
   "outputs": [
    {
     "name": "stderr",
     "output_type": "stream",
     "text": [
      "C:\\Users\\joshu\\AppData\\Local\\Temp\\ipykernel_31048\\677720991.py:26: UserWarning: Matplotlib is currently using module://matplotlib_inline.backend_inline, which is a non-GUI backend, so cannot show the figure.\n",
      "  fig.show()\n"
     ]
    },
    {
     "data": {
      "image/png": "[encoded data removed]",
      "text/plain": [
       "<Figure size 720x1800 with 4 Axes>"
      ]
     },
     "metadata": {
      "needs_background": "light"
     },
     "output_type": "display_data"
    }
   ],
   "source": [
    "plt.style.use(\"bmh\")\n",
    "fig, (ax1, ax2, ax3, ax4) = plt.subplots(nrows=4, ncols=1, squeeze=True)\n",
    "\n",
    "ax1.hist(dataset[\"tmpc\"], 40, (0,40), color=\"orange\", histtype = \"bar\", rwidth = 1)\n",
    "ax1.set_title(\"Temperature of the environment Graph\")\n",
    "ax1.set_xlabel(\"Temperature of the environment in celsius\")\n",
    "ax1.set_ylabel(\"frequency of value\")\n",
    "\n",
    "ax2.hist(dataset[\"dwpc\"], 40, (0,40), color=\"blue\", histtype = \"bar\", rwidth = 1)\n",
    "ax2.set_title(\"Temperature of the dew point in the environment Graph\")\n",
    "ax2.set_xlabel(\"Temperature of the dew point in the environment in celsius\")\n",
    "ax2.set_ylabel(\"frequency of value\")\n",
    "\n",
    "ax3.hist(dataset[\"relh\"], 75, (25,110), color=\"green\", histtype = \"bar\", rwidth = 1)\n",
    "ax3.set_title(\"Relative humidity of the environment Graph\")\n",
    "ax3.set_xlabel(\"Relative humidity of the environment in percentage\")\n",
    "ax3.set_ylabel(\"frequency of value\")\n",
    "\n",
    "ax4.hist(dataset[\"sknt\"], 40, (0,40), color=\"black\", histtype = \"bar\", rwidth = 1)\n",
    "ax4.set_title(\"Wind Speed Graph\")\n",
    "ax4.set_xlabel(\"Wind Speed in knots\")\n",
    "ax4.set_ylabel(\"frequency of value\")\n",
    "\n",
    "fig.set_size_inches(10,25)\n",
    "\n",
    "fig.show()"
   ]
  },
  {
   "cell_type": "markdown",
   "metadata": {},
   "source": [
    "Temperature of the environment Graph:\n",
    "- the data is normally distruibted\n",
    "- mean of 15.8 degrees celsius\n",
    "- min of 2 degrees celsius and max of 29 degrees celsius\n",
    "\n",
    "Temperature of the dew point in the environment Graph:\n",
    "- the data is normally distruibted\n",
    "- mean of 12 degrees celsius\n",
    "- min of -2 degrees celsius and max of 23 degrees celsius\n",
    "\n",
    "Relative humidity of the environment Graph:\n",
    "- the data is very left skewed\n",
    "- median of 82% relative humidity\n",
    "- min of 29% and max of 100% relative humidity\n",
    "\n",
    "Wind Speed Graph:\n",
    "- the data is very right skewed\n",
    "- median of 8 knots\n",
    "- min of 0 knots and max 42 knots"
   ]
  },
  {
   "cell_type": "markdown",
   "metadata": {},
   "source": [
    "# Data Processing"
   ]
  },
  {
   "cell_type": "code",
   "execution_count": 7,
   "metadata": {},
   "outputs": [],
   "source": [
    "# An exhaustive list of what you can do with Pandas dataframe is in this link: https://pandas.pydata.org/docs/reference/frame.html"
   ]
  },
  {
   "cell_type": "code",
   "execution_count": 8,
   "metadata": {},
   "outputs": [
    {
     "data": {
      "text/html": [
       "<div>\n",
       "<style scoped>\n",
       "    .dataframe tbody tr th:only-of-type {\n",
       "        vertical-align: middle;\n",
       "    }\n",
       "\n",
       "    .dataframe tbody tr th {\n",
       "        vertical-align: top;\n",
       "    }\n",
       "\n",
       "    .dataframe thead th {\n",
       "        text-align: right;\n",
       "    }\n",
       "</style>\n",
       "<table border=\"1\" class=\"dataframe\">\n",
       "  <thead>\n",
       "    <tr style=\"text-align: right;\">\n",
       "      <th></th>\n",
       "      <th>tmpc</th>\n",
       "      <th>dwpc</th>\n",
       "      <th>relh</th>\n",
       "      <th>sknt</th>\n",
       "    </tr>\n",
       "  </thead>\n",
       "  <tbody>\n",
       "    <tr>\n",
       "      <th>0</th>\n",
       "      <td>21.0</td>\n",
       "      <td>11.0</td>\n",
       "      <td>52.77</td>\n",
       "      <td>15.0</td>\n",
       "    </tr>\n",
       "    <tr>\n",
       "      <th>1</th>\n",
       "      <td>21.0</td>\n",
       "      <td>10.0</td>\n",
       "      <td>49.37</td>\n",
       "      <td>16.0</td>\n",
       "    </tr>\n",
       "    <tr>\n",
       "      <th>2</th>\n",
       "      <td>21.0</td>\n",
       "      <td>12.0</td>\n",
       "      <td>56.38</td>\n",
       "      <td>16.0</td>\n",
       "    </tr>\n",
       "    <tr>\n",
       "      <th>3</th>\n",
       "      <td>21.0</td>\n",
       "      <td>13.0</td>\n",
       "      <td>60.21</td>\n",
       "      <td>16.0</td>\n",
       "    </tr>\n",
       "    <tr>\n",
       "      <th>4</th>\n",
       "      <td>21.0</td>\n",
       "      <td>12.0</td>\n",
       "      <td>56.38</td>\n",
       "      <td>16.0</td>\n",
       "    </tr>\n",
       "  </tbody>\n",
       "</table>\n",
       "</div>"
      ],
      "text/plain": [
       "   tmpc  dwpc   relh  sknt\n",
       "0  21.0  11.0  52.77  15.0\n",
       "1  21.0  10.0  49.37  16.0\n",
       "2  21.0  12.0  56.38  16.0\n",
       "3  21.0  13.0  60.21  16.0\n",
       "4  21.0  12.0  56.38  16.0"
      ]
     },
     "execution_count": 8,
     "metadata": {},
     "output_type": "execute_result"
    }
   ],
   "source": [
    "dataset.drop(columns=[\"peak_wind_drct\", \"gust\", \" station\", \"valid\"], inplace=True)\n",
    "dataset.head()"
   ]
  },
  {
   "cell_type": "code",
   "execution_count": 9,
   "metadata": {},
   "outputs": [],
   "source": [
    "minutesFromStart = []\n",
    "\n",
    "# make a list that has the number of minutes since the first recording was taken\n",
    "# every row/data point recorded was taken 30 minutes after the last one was taken\n",
    "for i in range(len(dataset[\"tmpc\"])):\n",
    "    minutesFromStart.append(float(i*30))\n"
   ]
  },
  {
   "cell_type": "code",
   "execution_count": 10,
   "metadata": {},
   "outputs": [
    {
     "data": {
      "text/html": [
       "<div>\n",
       "<style scoped>\n",
       "    .dataframe tbody tr th:only-of-type {\n",
       "        vertical-align: middle;\n",
       "    }\n",
       "\n",
       "    .dataframe tbody tr th {\n",
       "        vertical-align: top;\n",
       "    }\n",
       "\n",
       "    .dataframe thead th {\n",
       "        text-align: right;\n",
       "    }\n",
       "</style>\n",
       "<table border=\"1\" class=\"dataframe\">\n",
       "  <thead>\n",
       "    <tr style=\"text-align: right;\">\n",
       "      <th></th>\n",
       "      <th>Minutes From Start</th>\n",
       "      <th>tmpc</th>\n",
       "      <th>dwpc</th>\n",
       "      <th>relh</th>\n",
       "      <th>sknt</th>\n",
       "    </tr>\n",
       "  </thead>\n",
       "  <tbody>\n",
       "    <tr>\n",
       "      <th>0</th>\n",
       "      <td>0.0</td>\n",
       "      <td>21.0</td>\n",
       "      <td>11.0</td>\n",
       "      <td>52.77</td>\n",
       "      <td>15.0</td>\n",
       "    </tr>\n",
       "    <tr>\n",
       "      <th>1</th>\n",
       "      <td>30.0</td>\n",
       "      <td>21.0</td>\n",
       "      <td>10.0</td>\n",
       "      <td>49.37</td>\n",
       "      <td>16.0</td>\n",
       "    </tr>\n",
       "    <tr>\n",
       "      <th>2</th>\n",
       "      <td>60.0</td>\n",
       "      <td>21.0</td>\n",
       "      <td>12.0</td>\n",
       "      <td>56.38</td>\n",
       "      <td>16.0</td>\n",
       "    </tr>\n",
       "    <tr>\n",
       "      <th>3</th>\n",
       "      <td>90.0</td>\n",
       "      <td>21.0</td>\n",
       "      <td>13.0</td>\n",
       "      <td>60.21</td>\n",
       "      <td>16.0</td>\n",
       "    </tr>\n",
       "    <tr>\n",
       "      <th>4</th>\n",
       "      <td>120.0</td>\n",
       "      <td>21.0</td>\n",
       "      <td>12.0</td>\n",
       "      <td>56.38</td>\n",
       "      <td>16.0</td>\n",
       "    </tr>\n",
       "  </tbody>\n",
       "</table>\n",
       "</div>"
      ],
      "text/plain": [
       "   Minutes From Start  tmpc  dwpc   relh  sknt\n",
       "0                 0.0  21.0  11.0  52.77  15.0\n",
       "1                30.0  21.0  10.0  49.37  16.0\n",
       "2                60.0  21.0  12.0  56.38  16.0\n",
       "3                90.0  21.0  13.0  60.21  16.0\n",
       "4               120.0  21.0  12.0  56.38  16.0"
      ]
     },
     "execution_count": 10,
     "metadata": {},
     "output_type": "execute_result"
    }
   ],
   "source": [
    "dataset.insert(0,'Minutes From Start', minutesFromStart )\n",
    "\n",
    "dataset.head()"
   ]
  },
  {
   "cell_type": "code",
   "execution_count": 11,
   "metadata": {},
   "outputs": [
    {
     "name": "stdout",
     "output_type": "stream",
     "text": [
      "<class 'pandas.core.frame.DataFrame'>\n",
      "RangeIndex: 103713 entries, 0 to 103712\n",
      "Data columns (total 5 columns):\n",
      " #   Column              Non-Null Count   Dtype  \n",
      "---  ------              --------------   -----  \n",
      " 0   Minutes From Start  103713 non-null  float64\n",
      " 1   tmpc                103678 non-null  float64\n",
      " 2   dwpc                103678 non-null  float64\n",
      " 3   relh                103593 non-null  float64\n",
      " 4   sknt                103704 non-null  float64\n",
      "dtypes: float64(5)\n",
      "memory usage: 4.0 MB\n",
      "        Minutes From Start  tmpc  dwpc   relh  sknt\n",
      "0                      0.0  21.0  11.0  52.77  15.0\n",
      "1                     30.0  21.0  10.0  49.37  16.0\n",
      "2                     60.0  21.0  12.0  56.38  16.0\n",
      "3                     90.0  21.0  13.0  60.21  16.0\n",
      "4                    120.0  21.0  12.0  56.38  16.0\n",
      "...                    ...   ...   ...    ...   ...\n",
      "103708           3111240.0  19.0  14.0  72.74   5.0\n",
      "103709           3111270.0  19.0  14.0  72.74   6.0\n",
      "103710           3111300.0  20.0  14.0  68.35   6.0\n",
      "103711           3111330.0  20.0  14.0  68.35   7.0\n",
      "103712           3111360.0  22.0  14.0  60.44   6.0\n",
      "\n",
      "[103713 rows x 5 columns]\n"
     ]
    }
   ],
   "source": [
    "dataset.info()\n",
    "print(dataset)"
   ]
  },
  {
   "cell_type": "code",
   "execution_count": 12,
   "metadata": {},
   "outputs": [
    {
     "name": "stdout",
     "output_type": "stream",
     "text": [
      "        Minutes From Start  tmpc  dwpc   relh  sknt\n",
      "31115             933450.0   9.0   7.0  87.28   6.0\n",
      "31116             933480.0   9.0   7.0  87.28   5.0\n",
      "31117             933510.0   9.0   7.0  87.28   4.0\n",
      "31118             933540.0   8.0   7.0  93.40   4.0\n",
      "31119             933570.0   8.0   7.0  93.40   4.0\n",
      "...                    ...   ...   ...    ...   ...\n",
      "103708           3111240.0  19.0  14.0  72.74   5.0\n",
      "103709           3111270.0  19.0  14.0  72.74   6.0\n",
      "103710           3111300.0  20.0  14.0  68.35   6.0\n",
      "103711           3111330.0  20.0  14.0  68.35   7.0\n",
      "103712           3111360.0  22.0  14.0  60.44   6.0\n",
      "\n",
      "[72598 rows x 5 columns]\n"
     ]
    },
    {
     "name": "stderr",
     "output_type": "stream",
     "text": [
      "C:\\Users\\joshu\\AppData\\Local\\Temp\\ipykernel_31048\\1154042695.py:2: SettingWithCopyWarning: \n",
      "A value is trying to be set on a copy of a slice from a DataFrame\n",
      "\n",
      "See the caveats in the documentation: https://pandas.pydata.org/pandas-docs/stable/user_guide/indexing.html#returning-a-view-versus-a-copy\n",
      "  trainingSet.drop(trainingSet.index[0:31115], inplace=True)\n"
     ]
    }
   ],
   "source": [
    "trainingSet = dataset[:]\n",
    "trainingSet.drop(trainingSet.index[0:31115], inplace=True)\n",
    "print(trainingSet)"
   ]
  },
  {
   "cell_type": "code",
   "execution_count": 13,
   "metadata": {},
   "outputs": [
    {
     "name": "stdout",
     "output_type": "stream",
     "text": [
      "       Minutes From Start  tmpc  dwpc   relh  sknt\n",
      "0                     0.0  21.0  11.0  52.77  15.0\n",
      "1                    30.0  21.0  10.0  49.37  16.0\n",
      "2                    60.0  21.0  12.0  56.38  16.0\n",
      "3                    90.0  21.0  13.0  60.21  16.0\n",
      "4                   120.0  21.0  12.0  56.38  16.0\n",
      "...                   ...   ...   ...    ...   ...\n",
      "31110            933300.0  10.0   8.0  87.37   2.0\n",
      "31111            933330.0  10.0   8.0  87.37   3.0\n",
      "31112            933360.0   9.0   8.0  93.45   4.0\n",
      "31113            933390.0   9.0   8.0  93.45   4.0\n",
      "31114            933420.0   9.0   8.0  93.45   5.0\n",
      "\n",
      "[31115 rows x 5 columns]\n"
     ]
    },
    {
     "name": "stderr",
     "output_type": "stream",
     "text": [
      "C:\\Users\\joshu\\AppData\\Local\\Temp\\ipykernel_31048\\775578315.py:2: SettingWithCopyWarning: \n",
      "A value is trying to be set on a copy of a slice from a DataFrame\n",
      "\n",
      "See the caveats in the documentation: https://pandas.pydata.org/pandas-docs/stable/user_guide/indexing.html#returning-a-view-versus-a-copy\n",
      "  testSet.drop(testSet.index[31115:], inplace=True)\n"
     ]
    }
   ],
   "source": [
    "testSet = dataset[:]\n",
    "testSet.drop(testSet.index[31115:], inplace=True)\n",
    "print(testSet)"
   ]
  },
  {
   "cell_type": "markdown",
   "metadata": {},
   "source": [
    "# Data Modelling"
   ]
  },
  {
   "cell_type": "code",
   "execution_count": 14,
   "metadata": {},
   "outputs": [],
   "source": [
    "# An exhaustive list of models can be found in sci-kit learn in this link: https://scikit-learn.org/stable/supervised_learning.html\n",
    "# The url takes you to supervised learning which is what you will be dealing with for this phase."
   ]
  },
  {
   "cell_type": "markdown",
   "metadata": {},
   "source": [
    "# Conclusion\n",
    "\n",
    "* Comment on your model performance.\n",
    "* Anything interesting about the data analysis."
   ]
  }
 ],
 "metadata": {
  "kernelspec": {
   "display_name": "Python 3.10.5 64-bit",
   "language": "python",
   "name": "python3"
  },
  "language_info": {
   "codemirror_mode": {
    "name": "ipython",
    "version": 3
   },
   "file_extension": ".py",
   "mimetype": "text/x-python",
   "name": "python",
   "nbconvert_exporter": "python",
   "pygments_lexer": "ipython3",
   "version": "3.10.5"
  },
  "orig_nbformat": 4,
  "vscode": {
   "interpreter": {
    "hash": "369f2c481f4da34e4445cda3fffd2e751bd1c4d706f27375911949ba6bb62e1c"
   }
  }
 },
 "nbformat": 4,
 "nbformat_minor": 2
}
